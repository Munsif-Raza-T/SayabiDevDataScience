{
  "nbformat": 4,
  "nbformat_minor": 0,
  "metadata": {
    "colab": {
      "provenance": [],
      "authorship_tag": "ABX9TyNP3SKXjHHLMC9GxGDQ0vl7",
      "include_colab_link": true
    },
    "kernelspec": {
      "name": "python3",
      "display_name": "Python 3"
    },
    "language_info": {
      "name": "python"
    }
  },
  "cells": [
    {
      "cell_type": "markdown",
      "metadata": {
        "id": "view-in-github",
        "colab_type": "text"
      },
      "source": [
        "<a href=\"https://colab.research.google.com/github/Munsif-Raza-T/SayabiDevDataScience/blob/main/Chatbot_using_ChatterBot.ipynb\" target=\"_parent\"><img src=\"https://colab.research.google.com/assets/colab-badge.svg\" alt=\"Open In Colab\"/></a>"
      ]
    },
    {
      "cell_type": "code",
      "source": [
        "# bot.py\n",
        "\n",
        "from chatterbot import ChatBot\n",
        "\n",
        "chatbot = ChatBot(\"Chatbot\")\n",
        "\n",
        "exit_conditions = (\":q\", \"quit\", \"exit\")\n",
        "while True:\n",
        "    query = input(\"> \")\n",
        "    if query in exit_conditions:\n",
        "        break\n",
        "    else:\n",
        "        print(f\"🪴 {chatbot.get_response(query)}\")"
      ],
      "metadata": {
        "colab": {
          "base_uri": "https://localhost:8080/"
        },
        "id": "prJGziHq3fTf",
        "outputId": "7666f0ed-0ebf-4887-ef79-a79560ee0bae"
      },
      "execution_count": 8,
      "outputs": [
        {
          "output_type": "stream",
          "name": "stderr",
          "text": [
            "[nltk_data] Downloading package stopwords to /root/nltk_data...\n",
            "[nltk_data]   Package stopwords is already up-to-date!\n",
            "[nltk_data] Downloading package averaged_perceptron_tagger to\n",
            "[nltk_data]     /root/nltk_data...\n",
            "[nltk_data]   Package averaged_perceptron_tagger is already up-to-\n",
            "[nltk_data]       date!\n"
          ]
        },
        {
          "name": "stdout",
          "output_type": "stream",
          "text": [
            "> Hello\n",
            "🪴 How are you?\n",
            "> quit\n"
          ]
        }
      ]
    },
    {
      "cell_type": "code",
      "source": [
        "# bot.py\n",
        "\n",
        "from chatterbot import ChatBot\n",
        "from chatterbot.trainers import ListTrainer\n",
        "from chatterbot.trainers import ChatterBotCorpusTrainer\n",
        "\n",
        "chatbot = ChatBot(\"Chatbot\")\n",
        "\n",
        "trainer = ListTrainer(chatbot)\n",
        "trainer.train([\n",
        "    \"Hi\",\n",
        "    \"Hello, my friend 🤗\",\n",
        "])\n",
        "trainer.train([\n",
        "    \"How are you?\",\n",
        "    \"Alhumdulilah, I'm fine.\",\n",
        "])\n",
        "trainer.train([\n",
        "    'What is your name?',\n",
        "    \"My name is Munsif Raza\"\n",
        "])\n",
        "\n",
        "trainer_corpus = ChatterBotCorpusTrainer(chatbot)\n",
        "\n",
        "trainer_corpus.train(\"chatterbot.corpus.english.greetings\",\n",
        "              \"chatterbot.corpus.english.conversations\")\n",
        "\n",
        "# Get a response to the input text \"Hello\"\n",
        "response = chatbot.get_response(\"Hello\")\n",
        "print(response)\n",
        "\n",
        "# Start a conversation with the chatbot\n",
        "while True:\n",
        "    request = input('You:')\n",
        "    if request.strip() == 'Bye':\n",
        "        print('Bot: Bye, Have a nice day.')\n",
        "        break\n",
        "    else:\n",
        "        response = chatbot.get_response(request)\n",
        "        print('Bot:', response)\n"
      ],
      "metadata": {
        "colab": {
          "base_uri": "https://localhost:8080/"
        },
        "id": "6zSFAJCfGgC1",
        "outputId": "83a284bd-3fed-460e-b8bd-4236a64ff7a9"
      },
      "execution_count": 3,
      "outputs": [
        {
          "output_type": "stream",
          "name": "stdout",
          "text": [
            "List Trainer: [####################] 100%\n",
            "List Trainer: [####################] 100%\n",
            "List Trainer: [####################] 100%\n",
            "Training greetings.yml: [########            ] 40%"
          ]
        },
        {
          "output_type": "stream",
          "name": "stderr",
          "text": [
            "[nltk_data] Downloading package stopwords to /root/nltk_data...\n",
            "[nltk_data]   Package stopwords is already up-to-date!\n",
            "[nltk_data] Downloading package averaged_perceptron_tagger to\n",
            "[nltk_data]     /root/nltk_data...\n",
            "[nltk_data]   Package averaged_perceptron_tagger is already up-to-\n",
            "[nltk_data]       date!\n"
          ]
        },
        {
          "output_type": "stream",
          "name": "stdout",
          "text": [
            "Training greetings.yml: [####################] 100%\n",
            "Training conversations.yml: [####################] 100%\n",
            "Hi\n",
            "You:Hey\n",
            "Chatbot: I can't read.\n",
            "You:hello\n",
            "Chatbot: Hi\n",
            "You:how are you?\n",
            "Chatbot: I am doing well.\n",
            "You:What is your name?\n",
            "Chatbot: My name is Munsif Raza\n",
            "You:bye\n",
            "Chatbot: What is it that you want to know?\n",
            "You:Bye\n",
            "Chatbot: Bye\n"
          ]
        }
      ]
    },
    {
      "cell_type": "code",
      "source": [],
      "metadata": {
        "id": "CyRc0fPGcdX3"
      },
      "execution_count": null,
      "outputs": []
    }
  ]
}